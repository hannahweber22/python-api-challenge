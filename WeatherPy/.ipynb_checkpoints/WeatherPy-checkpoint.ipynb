{
 "cells": [
  {
   "cell_type": "markdown",
   "metadata": {},
   "source": [
    "# WeatherPy\n",
    "\n",
    "---\n",
    "\n",
    "## Starter Code to Generate Random Geographic Coordinates and a List of Cities"
   ]
  },
  {
   "cell_type": "code",
   "execution_count": 26,
   "metadata": {
    "scrolled": true
   },
   "outputs": [],
   "source": [
    "# Dependencies and Setup\n",
    "import matplotlib.pyplot as plt\n",
    "import pandas as pd\n",
    "import numpy as np\n",
    "import requests\n",
    "import time\n",
    "from scipy.stats import linregress\n",
    "import hvplot\n",
    "from datetime import datetime\n",
    "\n",
    "# Impor the OpenWeatherMap API key\n",
    "from api_keys import weather_api_key\n",
    "\n",
    "# Import citipy to determine the cities based on latitude and longitude\n",
    "from citipy import citipy"
   ]
  },
  {
   "cell_type": "markdown",
   "metadata": {},
   "source": [
    "### Generate the Cities List by Using the `citipy` Library"
   ]
  },
  {
   "cell_type": "code",
   "execution_count": 2,
   "metadata": {},
   "outputs": [
    {
     "name": "stdout",
     "output_type": "stream",
     "text": [
      "Number of cities in the list: 576\n"
     ]
    }
   ],
   "source": [
    "# Empty list for holding the latitude and longitude combinations\n",
    "lat_lngs = []\n",
    "\n",
    "# Empty list for holding the cities names\n",
    "cities = []\n",
    "\n",
    "# Range of latitudes and longitudes\n",
    "lat_range = (-90, 90)\n",
    "lng_range = (-180, 180)\n",
    "\n",
    "# Create a set of random lat and lng combinations\n",
    "lats = np.random.uniform(lat_range[0], lat_range[1], size=1500)\n",
    "lngs = np.random.uniform(lng_range[0], lng_range[1], size=1500)\n",
    "lat_lngs = zip(lats, lngs)\n",
    "\n",
    "# Identify nearest city for each lat, lng combination\n",
    "for lat_lng in lat_lngs:\n",
    "    city = citipy.nearest_city(lat_lng[0], lat_lng[1]).city_name\n",
    "    \n",
    "    # If the city is unique, then add it to a our cities list\n",
    "    if city not in cities:\n",
    "        cities.append(city)\n",
    "\n",
    "# Print the city count to confirm sufficient count\n",
    "print(f\"Number of cities in the list: {len(cities)}\")"
   ]
  },
  {
   "cell_type": "markdown",
   "metadata": {},
   "source": [
    "---"
   ]
  },
  {
   "cell_type": "markdown",
   "metadata": {},
   "source": [
    "## Requirement 1: Create Plots to Showcase the Relationship Between Weather Variables and Latitude\n",
    "\n",
    "### Use the OpenWeatherMap API to retrieve weather data from the cities list generated in the started code"
   ]
  },
  {
   "cell_type": "code",
   "execution_count": 7,
   "metadata": {},
   "outputs": [
    {
     "name": "stdout",
     "output_type": "stream",
     "text": [
      "2023-04-23\n"
     ]
    }
   ],
   "source": [
    "url = \"https://api.openweathermap.org/data/2.5/weather?appid=\" + weather_api_key\n",
    "city_url = url + \"&q=\" + str(city) + \"&units=metric\"\n",
    "\n",
    "city_weather = requests.get(city_url).json()\n",
    "\n",
    "        # Parse out latitude, longitude, max temp, humidity, cloudiness, wind speed, country, and date\n",
    "\n",
    "city_date = city_weather[\"dt\"]\n",
    "\n",
    "unix_city_date = int(city_date)\n",
    "city_date = str(datetime.utcfromtimestamp(unix_city_date).strftime('%Y-%m-%d'))\n",
    "\n",
    "print(city_date)"
   ]
  },
  {
   "cell_type": "code",
   "execution_count": 8,
   "metadata": {},
   "outputs": [
    {
     "name": "stdout",
     "output_type": "stream",
     "text": [
      "Beginning Data Retrieval     \n",
      "-----------------------------\n",
      "Processing Record 1 of Set 1 | inirida\n",
      "Processing Record 2 of Set 1 | junin de los andes\n",
      "Processing Record 3 of Set 1 | edinburgh of the seven seas\n",
      "Processing Record 4 of Set 1 | albany\n",
      "Processing Record 5 of Set 1 | taiohae\n",
      "taiohae not found. Skipping taiohae\n",
      "Processing Record 6 of Set 1 | hamilton\n",
      "Processing Record 7 of Set 1 | atafu village\n",
      "Processing Record 8 of Set 1 | grytviken\n",
      "Processing Record 9 of Set 1 | iqaluit\n",
      "Processing Record 10 of Set 1 | klyuchi\n",
      "Processing Record 11 of Set 1 | iskateley\n",
      "Processing Record 12 of Set 1 | keflavik\n",
      "Processing Record 13 of Set 1 | west island\n",
      "Processing Record 14 of Set 1 | santa ana\n",
      "Processing Record 15 of Set 1 | port elizabeth\n",
      "Processing Record 16 of Set 1 | soller\n",
      "Processing Record 17 of Set 1 | tiksi\n",
      "Processing Record 18 of Set 1 | worland\n",
      "Processing Record 19 of Set 1 | glencoe\n",
      "Processing Record 20 of Set 1 | haiku-pauwela\n",
      "Processing Record 21 of Set 1 | tual\n",
      "Processing Record 22 of Set 1 | east london\n",
      "Processing Record 23 of Set 1 | college\n",
      "Processing Record 24 of Set 1 | sandnessjoen\n",
      "Processing Record 25 of Set 1 | port-aux-francais\n",
      "Processing Record 26 of Set 1 | carnarvon\n",
      "Processing Record 27 of Set 1 | ust-nera\n",
      "Processing Record 28 of Set 1 | ushuaia\n",
      "Processing Record 29 of Set 1 | avarua\n",
      "Processing Record 30 of Set 1 | bishkul\n",
      "Processing Record 31 of Set 1 | brookings\n",
      "Processing Record 32 of Set 1 | afaahiti\n",
      "Processing Record 33 of Set 1 | chibougamau\n",
      "Processing Record 34 of Set 1 | polyarnyy\n",
      "Processing Record 35 of Set 1 | kerikeri\n",
      "Processing Record 36 of Set 1 | tutoia\n",
      "Processing Record 37 of Set 1 | adamstown\n",
      "Processing Record 38 of Set 1 | christchurch\n",
      "Processing Record 39 of Set 1 | puerto natales\n",
      "Processing Record 40 of Set 1 | iwanai\n",
      "Processing Record 41 of Set 1 | serenje\n",
      "Processing Record 42 of Set 1 | ciudad lazaro cardenas\n",
      "Processing Record 43 of Set 1 | jamestown\n",
      "Processing Record 44 of Set 1 | bilibino\n",
      "Processing Record 45 of Set 1 | thompson\n",
      "Processing Record 46 of Set 1 | walvis bay\n",
      "Processing Record 47 of Set 1 | kristiansund\n",
      "Processing Record 48 of Set 1 | constantia\n",
      "Processing Record 49 of Set 1 | port mathurin\n",
      "Processing Record 50 of Set 1 | dudinka\n",
      "Processing Record 0 of Set 2 | kruisfontein\n",
      "Processing Record 1 of Set 2 | brokopondo\n",
      "Processing Record 2 of Set 2 | taguatinga\n",
      "Processing Record 3 of Set 2 | san patricio\n",
      "Processing Record 4 of Set 2 | mwinilunga\n",
      "Processing Record 5 of Set 2 | wailua homesteads\n",
      "Processing Record 6 of Set 2 | campo grande\n",
      "Processing Record 7 of Set 2 | invercargill\n",
      "Processing Record 8 of Set 2 | emerald\n",
      "Processing Record 9 of Set 2 | dakhla\n",
      "Processing Record 10 of Set 2 | badger\n",
      "Processing Record 11 of Set 2 | jagatsinghapur\n",
      "Processing Record 12 of Set 2 | lebu\n",
      "Processing Record 13 of Set 2 | oppdal\n",
      "Processing Record 14 of Set 2 | bethel\n",
      "Processing Record 15 of Set 2 | bargara\n",
      "bargara not found. Skipping bargara\n",
      "Processing Record 16 of Set 2 | anadyr\n",
      "Processing Record 17 of Set 2 | i-n-salah\n",
      "Processing Record 18 of Set 2 | waitangi\n",
      "Processing Record 19 of Set 2 | anabar\n",
      "anabar not found. Skipping anabar\n",
      "Processing Record 20 of Set 2 | papatowai\n",
      "Processing Record 21 of Set 2 | berdigestyakh\n",
      "Processing Record 22 of Set 2 | sundarnagar\n",
      "Processing Record 23 of Set 2 | kodiak\n",
      "Processing Record 24 of Set 2 | margaret river\n",
      "Processing Record 25 of Set 2 | sirte\n",
      "Processing Record 26 of Set 2 | madang\n",
      "Processing Record 27 of Set 2 | puerto baquerizo moreno\n",
      "Processing Record 28 of Set 2 | robore\n",
      "Processing Record 29 of Set 2 | yuzhno-kurilsk\n",
      "Processing Record 30 of Set 2 | huocheng\n",
      "huocheng not found. Skipping huocheng\n",
      "Processing Record 31 of Set 2 | dryden\n",
      "Processing Record 32 of Set 2 | arraial do cabo\n",
      "Processing Record 33 of Set 2 | 'ohonua\n",
      "'ohonua not found. Skipping 'ohonua\n",
      "Processing Record 34 of Set 2 | tranovaho\n",
      "tranovaho not found. Skipping tranovaho\n",
      "Processing Record 35 of Set 2 | aspen\n",
      "Processing Record 36 of Set 2 | cargados carajos\n",
      "cargados carajos not found. Skipping cargados carajos\n",
      "Processing Record 37 of Set 2 | stanley\n",
      "Processing Record 38 of Set 2 | minas de marcona\n",
      "Processing Record 39 of Set 2 | gamboma\n",
      "Processing Record 40 of Set 2 | inari\n",
      "Processing Record 41 of Set 2 | cuencame de ceniceros\n",
      "Processing Record 42 of Set 2 | namdrik\n",
      "Processing Record 43 of Set 2 | puerto ayora\n",
      "Processing Record 44 of Set 2 | la passe\n",
      "Processing Record 45 of Set 2 | luderitz\n",
      "Processing Record 46 of Set 2 | weno\n",
      "Processing Record 47 of Set 2 | severo-yeniseyskiy\n",
      "Processing Record 48 of Set 2 | petropavl\n",
      "Processing Record 49 of Set 2 | sodra sandby\n",
      "Processing Record 0 of Set 3 | alpine\n",
      "Processing Record 1 of Set 3 | naze\n",
      "Processing Record 2 of Set 3 | kone\n",
      "Processing Record 3 of Set 3 | tocopilla\n",
      "Processing Record 4 of Set 3 | el dorado\n",
      "Processing Record 5 of Set 3 | hasaki\n",
      "Processing Record 6 of Set 3 | marivan\n",
      "Processing Record 7 of Set 3 | taoudenni\n",
      "Processing Record 8 of Set 3 | vernon\n",
      "Processing Record 9 of Set 3 | kapuskasing\n",
      "Processing Record 10 of Set 3 | hermanus\n",
      "Processing Record 11 of Set 3 | st. john's\n",
      "Processing Record 12 of Set 3 | tura\n",
      "Processing Record 13 of Set 3 | blackmans bay\n",
      "Processing Record 14 of Set 3 | rio grande\n",
      "Processing Record 15 of Set 3 | yellowknife\n",
      "Processing Record 16 of Set 3 | lobujya\n",
      "Processing Record 17 of Set 3 | ribeira grande\n",
      "Processing Record 18 of Set 3 | nishinoomote\n",
      "Processing Record 19 of Set 3 | manaure\n",
      "Processing Record 20 of Set 3 | manta\n",
      "Processing Record 21 of Set 3 | nema\n",
      "Processing Record 22 of Set 3 | rongelap\n",
      "Processing Record 23 of Set 3 | puerto rosario\n",
      "Processing Record 24 of Set 3 | jeddah\n",
      "Processing Record 25 of Set 3 | tsiombe\n",
      "Processing Record 26 of Set 3 | trapani\n",
      "Processing Record 27 of Set 3 | el porvenir\n",
      "Processing Record 28 of Set 3 | novyy urgal\n",
      "Processing Record 29 of Set 3 | connell\n",
      "Processing Record 30 of Set 3 | nar'yan-mar\n",
      "Processing Record 31 of Set 3 | ogulin\n",
      "Processing Record 32 of Set 3 | tazovsky\n",
      "Processing Record 33 of Set 3 | codrington\n",
      "Processing Record 34 of Set 3 | asau\n",
      "Processing Record 35 of Set 3 | bel ombre\n",
      "Processing Record 36 of Set 3 | pisco\n",
      "Processing Record 37 of Set 3 | uturoa\n",
      "Processing Record 38 of Set 3 | howard springs\n",
      "Processing Record 39 of Set 3 | harrisburg\n",
      "Processing Record 40 of Set 3 | alofi\n",
      "Processing Record 41 of Set 3 | khonsa\n",
      "Processing Record 42 of Set 3 | al-`ula\n",
      "al-`ula not found. Skipping al-`ula\n",
      "Processing Record 43 of Set 3 | ha'il\n",
      "Processing Record 44 of Set 3 | fisterra\n",
      "Processing Record 45 of Set 3 | guerrero negro\n",
      "Processing Record 46 of Set 3 | phan rang-thap cham\n",
      "Processing Record 47 of Set 3 | baluntaicun\n",
      "baluntaicun not found. Skipping baluntaicun\n",
      "Processing Record 48 of Set 3 | gembu\n",
      "Processing Record 49 of Set 3 | broken hill\n",
      "Processing Record 0 of Set 4 | crane\n",
      "Processing Record 1 of Set 4 | colonia\n",
      "Processing Record 2 of Set 4 | pangody\n",
      "Processing Record 3 of Set 4 | general cabrera\n",
      "Processing Record 4 of Set 4 | touros\n",
      "Processing Record 5 of Set 4 | fonadhoo\n",
      "fonadhoo not found. Skipping fonadhoo\n",
      "Processing Record 6 of Set 4 | puerto aysen\n",
      "Processing Record 7 of Set 4 | salinas\n",
      "Processing Record 8 of Set 4 | corumba\n",
      "Processing Record 9 of Set 4 | sinop\n",
      "Processing Record 10 of Set 4 | kingsbridge\n",
      "Processing Record 11 of Set 4 | daru\n",
      "Processing Record 12 of Set 4 | kavalerovo\n",
      "Processing Record 13 of Set 4 | comodoro rivadavia\n",
      "Processing Record 14 of Set 4 | magadan\n",
      "Processing Record 15 of Set 4 | palikir - national government center\n",
      "Processing Record 16 of Set 4 | portland\n",
      "Processing Record 17 of Set 4 | dwarka\n",
      "Processing Record 18 of Set 4 | vukovar\n",
      "Processing Record 19 of Set 4 | port hedland\n",
      "Processing Record 20 of Set 4 | hithadhoo\n",
      "Processing Record 21 of Set 4 | zaozersk\n",
      "Processing Record 22 of Set 4 | longyearbyen\n",
      "Processing Record 23 of Set 4 | neryungri\n",
      "Processing Record 24 of Set 4 | aldan\n",
      "Processing Record 25 of Set 4 | cambria\n",
      "Processing Record 26 of Set 4 | dergachi\n",
      "Processing Record 27 of Set 4 | moranbah\n",
      "Processing Record 28 of Set 4 | novohrad-volynskyi\n",
      "Processing Record 29 of Set 4 | tolanaro\n",
      "Processing Record 30 of Set 4 | remire-montjoly\n",
      "Processing Record 31 of Set 4 | masterton\n",
      "Processing Record 32 of Set 4 | laibin\n",
      "Processing Record 33 of Set 4 | shibganj\n"
     ]
    },
    {
     "name": "stdout",
     "output_type": "stream",
     "text": [
      "Processing Record 34 of Set 4 | saksaul'skiy\n",
      "saksaul'skiy not found. Skipping saksaul'skiy\n",
      "Processing Record 35 of Set 4 | byron bay\n",
      "Processing Record 36 of Set 4 | chonchi\n",
      "Processing Record 37 of Set 4 | ilulissat\n",
      "Processing Record 38 of Set 4 | magistral'nyy\n",
      "Processing Record 39 of Set 4 | nova sintra\n",
      "Processing Record 40 of Set 4 | ulladulla\n",
      "Processing Record 41 of Set 4 | karratha\n",
      "Processing Record 42 of Set 4 | hanchuan\n",
      "Processing Record 43 of Set 4 | chita\n",
      "Processing Record 44 of Set 4 | arthur's town\n",
      "arthur's town not found. Skipping arthur's town\n",
      "Processing Record 45 of Set 4 | aghajari\n",
      "Processing Record 46 of Set 4 | filadelfia\n",
      "Processing Record 47 of Set 4 | marineo\n",
      "Processing Record 48 of Set 4 | kota kinabalu\n",
      "Processing Record 49 of Set 4 | santiago de compostela\n",
      "Processing Record 0 of Set 5 | lubang\n",
      "Processing Record 1 of Set 5 | cherdyn'\n",
      "Processing Record 2 of Set 5 | butte\n",
      "Processing Record 3 of Set 5 | saipan\n",
      "Processing Record 4 of Set 5 | brisas de zicatela\n",
      "Processing Record 5 of Set 5 | kalundborg\n",
      "Processing Record 6 of Set 5 | clayton\n",
      "Processing Record 7 of Set 5 | lihue\n",
      "Processing Record 8 of Set 5 | vadso\n",
      "Processing Record 9 of Set 5 | kupang\n",
      "Processing Record 10 of Set 5 | susuman\n",
      "Processing Record 11 of Set 5 | libreville\n",
      "Processing Record 12 of Set 5 | ulanhot\n",
      "Processing Record 13 of Set 5 | isangel\n",
      "Processing Record 14 of Set 5 | elliot lake\n",
      "Processing Record 15 of Set 5 | al bardiyah\n",
      "Processing Record 16 of Set 5 | udachny\n",
      "Processing Record 17 of Set 5 | nago\n",
      "Processing Record 18 of Set 5 | bredasdorp\n",
      "Processing Record 19 of Set 5 | dame-marie\n",
      "Processing Record 20 of Set 5 | quellon\n",
      "Processing Record 21 of Set 5 | al ghayzah\n",
      "Processing Record 22 of Set 5 | san antonio de pale\n",
      "Processing Record 23 of Set 5 | maputo\n",
      "Processing Record 24 of Set 5 | punta arenas\n",
      "Processing Record 25 of Set 5 | isafjordur\n",
      "Processing Record 26 of Set 5 | ubinskoye\n",
      "Processing Record 27 of Set 5 | sao tome\n",
      "Processing Record 28 of Set 5 | queenstown\n",
      "Processing Record 29 of Set 5 | fuvahmulah\n",
      "fuvahmulah not found. Skipping fuvahmulah\n",
      "Processing Record 30 of Set 5 | pengcheng\n",
      "Processing Record 31 of Set 5 | entebbe\n",
      "Processing Record 32 of Set 5 | mili\n",
      "Processing Record 33 of Set 5 | grand falls-windsor\n",
      "Processing Record 34 of Set 5 | vilyuchinsk\n",
      "Processing Record 35 of Set 5 | yemva\n",
      "Processing Record 36 of Set 5 | alice springs\n",
      "Processing Record 37 of Set 5 | macaubas\n",
      "Processing Record 38 of Set 5 | cockburn town\n",
      "Processing Record 39 of Set 5 | port alfred\n",
      "Processing Record 40 of Set 5 | yoko\n",
      "Processing Record 41 of Set 5 | al qubbah\n",
      "Processing Record 42 of Set 5 | lazaro cardenas\n",
      "Processing Record 43 of Set 5 | trujillo\n",
      "Processing Record 44 of Set 5 | puerto del rosario\n",
      "Processing Record 45 of Set 5 | lulea\n",
      "Processing Record 46 of Set 5 | pipar\n",
      "Processing Record 47 of Set 5 | coahuayana de hidalgo\n",
      "Processing Record 48 of Set 5 | freetown\n",
      "Processing Record 49 of Set 5 | kill devil hills\n",
      "Processing Record 0 of Set 6 | hayma'\n",
      "hayma' not found. Skipping hayma'\n",
      "Processing Record 1 of Set 6 | salekhard\n",
      "Processing Record 2 of Set 6 | hawaiian paradise park\n",
      "Processing Record 3 of Set 6 | patterson\n",
      "Processing Record 4 of Set 6 | aioun\n",
      "Processing Record 5 of Set 6 | petropavlovsk-kamchatsky\n",
      "Processing Record 6 of Set 6 | bridgewater\n",
      "Processing Record 7 of Set 6 | samborondon\n",
      "Processing Record 8 of Set 6 | saldanha\n",
      "Processing Record 9 of Set 6 | beau vallon\n",
      "Processing Record 10 of Set 6 | metlili chaamba\n",
      "Processing Record 11 of Set 6 | pangoa\n",
      "Processing Record 12 of Set 6 | manay\n",
      "Processing Record 13 of Set 6 | greymouth\n",
      "Processing Record 14 of Set 6 | tara\n",
      "Processing Record 15 of Set 6 | north platte\n",
      "Processing Record 16 of Set 6 | ebon\n",
      "Processing Record 17 of Set 6 | cabo san lucas\n",
      "Processing Record 18 of Set 6 | vanimo\n",
      "Processing Record 19 of Set 6 | vila velha\n",
      "Processing Record 20 of Set 6 | kolokani\n",
      "Processing Record 21 of Set 6 | kyzyl-mazhalyk\n",
      "Processing Record 22 of Set 6 | whitehorse\n",
      "Processing Record 23 of Set 6 | arawa\n",
      "Processing Record 24 of Set 6 | sonsorol village\n",
      "sonsorol village not found. Skipping sonsorol village\n",
      "Processing Record 25 of Set 6 | lompoc\n",
      "Processing Record 26 of Set 6 | garoowe\n",
      "Processing Record 27 of Set 6 | acarau\n",
      "Processing Record 28 of Set 6 | tabou\n",
      "Processing Record 29 of Set 6 | utrik\n",
      "Processing Record 30 of Set 6 | castelo do piaui\n",
      "Processing Record 31 of Set 6 | kataragama\n",
      "kataragama not found. Skipping kataragama\n",
      "Processing Record 32 of Set 6 | qianjiang\n",
      "Processing Record 33 of Set 6 | georgetown\n",
      "Processing Record 34 of Set 6 | hinton\n",
      "Processing Record 35 of Set 6 | ghanzi\n",
      "Processing Record 36 of Set 6 | picayune\n",
      "Processing Record 37 of Set 6 | kapa'a\n",
      "Processing Record 38 of Set 6 | ambon\n",
      "Processing Record 39 of Set 6 | talnakh\n",
      "Processing Record 40 of Set 6 | tobelo\n",
      "Processing Record 41 of Set 6 | kyaikto\n",
      "Processing Record 42 of Set 6 | wanganui\n",
      "Processing Record 43 of Set 6 | rawah\n",
      "Processing Record 44 of Set 6 | ningbo\n",
      "Processing Record 45 of Set 6 | robat karim\n",
      "Processing Record 46 of Set 6 | karymskoye\n",
      "Processing Record 47 of Set 6 | nola\n",
      "Processing Record 48 of Set 6 | ibarreta\n",
      "Processing Record 49 of Set 6 | fort mcmurray\n",
      "Processing Record 0 of Set 7 | vorgashor\n",
      "Processing Record 1 of Set 7 | alem paraiba\n",
      "Processing Record 2 of Set 7 | pocone\n",
      "Processing Record 3 of Set 7 | puerto san carlos\n",
      "puerto san carlos not found. Skipping puerto san carlos\n",
      "Processing Record 4 of Set 7 | rikaze\n",
      "Processing Record 5 of Set 7 | yaren\n",
      "Processing Record 6 of Set 7 | murghob\n",
      "Processing Record 7 of Set 7 | aykhal\n",
      "Processing Record 8 of Set 7 | labrador city\n",
      "Processing Record 9 of Set 7 | balabac\n",
      "Processing Record 10 of Set 7 | vingt cinq\n",
      "vingt cinq not found. Skipping vingt cinq\n",
      "Processing Record 11 of Set 7 | barkly west\n",
      "Processing Record 12 of Set 7 | segovia\n",
      "Processing Record 13 of Set 7 | roswell\n",
      "Processing Record 14 of Set 7 | rexburg\n",
      "Processing Record 15 of Set 7 | ostersund\n",
      "Processing Record 16 of Set 7 | pemangkat\n",
      "Processing Record 17 of Set 7 | muncar\n",
      "Processing Record 18 of Set 7 | enewetak\n",
      "Processing Record 19 of Set 7 | kisanga\n",
      "Processing Record 20 of Set 7 | el granada\n",
      "Processing Record 21 of Set 7 | kpandae\n",
      "Processing Record 22 of Set 7 | albertina\n",
      "Processing Record 23 of Set 7 | salmon arm\n",
      "Processing Record 24 of Set 7 | grao de murviedro\n",
      "Processing Record 25 of Set 7 | san clemente del tuyu\n",
      "Processing Record 26 of Set 7 | taroa\n",
      "Processing Record 27 of Set 7 | qaqortoq\n",
      "Processing Record 28 of Set 7 | el calafate\n",
      "Processing Record 29 of Set 7 | maragogi\n",
      "Processing Record 30 of Set 7 | yatou\n",
      "Processing Record 31 of Set 7 | bandarbeyla\n",
      "Processing Record 32 of Set 7 | kyenjojo\n",
      "Processing Record 33 of Set 7 | namibe\n",
      "Processing Record 34 of Set 7 | kahuta\n",
      "Processing Record 35 of Set 7 | mount isa\n",
      "Processing Record 36 of Set 7 | shihezi\n",
      "Processing Record 37 of Set 7 | palopo\n",
      "Processing Record 38 of Set 7 | trincomalee\n",
      "Processing Record 39 of Set 7 | thinadhoo\n",
      "Processing Record 40 of Set 7 | dawson creek\n",
      "Processing Record 41 of Set 7 | olonkinbyen\n",
      "Processing Record 42 of Set 7 | harstad\n",
      "Processing Record 43 of Set 7 | santa fe de antioquia\n",
      "Processing Record 44 of Set 7 | fortuna\n",
      "Processing Record 45 of Set 7 | saint-pierre\n",
      "Processing Record 46 of Set 7 | bertrix\n",
      "Processing Record 47 of Set 7 | aginskoye\n",
      "Processing Record 48 of Set 7 | labytnangi\n",
      "Processing Record 49 of Set 7 | enoch\n",
      "Processing Record 0 of Set 8 | khasab\n",
      "Processing Record 1 of Set 8 | inzhavino\n",
      "Processing Record 2 of Set 8 | sokone\n",
      "Processing Record 3 of Set 8 | tezu\n",
      "Processing Record 4 of Set 8 | prince rupert\n",
      "Processing Record 5 of Set 8 | nogliki\n",
      "Processing Record 6 of Set 8 | camacupa\n",
      "Processing Record 7 of Set 8 | vila franca do campo\n",
      "Processing Record 8 of Set 8 | kampene\n",
      "Processing Record 9 of Set 8 | laojunmiao\n",
      "Processing Record 10 of Set 8 | kasempa\n",
      "Processing Record 11 of Set 8 | revda\n",
      "Processing Record 12 of Set 8 | same\n",
      "Processing Record 13 of Set 8 | sisimiut\n",
      "Processing Record 14 of Set 8 | cedar falls\n",
      "Processing Record 15 of Set 8 | shchyrets\n",
      "shchyrets not found. Skipping shchyrets\n",
      "Processing Record 16 of Set 8 | bardai\n",
      "Processing Record 17 of Set 8 | pacific grove\n",
      "Processing Record 18 of Set 8 | sitka\n",
      "Processing Record 19 of Set 8 | sainte-anne-des-monts\n"
     ]
    },
    {
     "name": "stdout",
     "output_type": "stream",
     "text": [
      "Processing Record 20 of Set 8 | mejit\n",
      "Processing Record 21 of Set 8 | kem'\n",
      "Processing Record 22 of Set 8 | itoman\n",
      "Processing Record 23 of Set 8 | fukuecho\n",
      "Processing Record 24 of Set 8 | altai\n",
      "Processing Record 25 of Set 8 | shendi\n",
      "Processing Record 26 of Set 8 | reggane\n",
      "Processing Record 27 of Set 8 | taltal\n",
      "Processing Record 28 of Set 8 | mukalla\n",
      "Processing Record 29 of Set 8 | chui\n",
      "Processing Record 30 of Set 8 | kununurra\n",
      "Processing Record 31 of Set 8 | kapoeta\n",
      "Processing Record 32 of Set 8 | onega\n",
      "Processing Record 33 of Set 8 | seogwipo\n",
      "seogwipo not found. Skipping seogwipo\n",
      "Processing Record 34 of Set 8 | leava\n",
      "Processing Record 35 of Set 8 | port augusta\n",
      "Processing Record 36 of Set 8 | greater upper marlboro\n",
      "greater upper marlboro not found. Skipping greater upper marlboro\n",
      "Processing Record 37 of Set 8 | linhares\n",
      "Processing Record 38 of Set 8 | newman\n",
      "Processing Record 39 of Set 8 | haisyn\n",
      "Processing Record 40 of Set 8 | buritama\n",
      "Processing Record 41 of Set 8 | kabwe\n",
      "Processing Record 42 of Set 8 | toga village\n",
      "toga village not found. Skipping toga village\n",
      "Processing Record 43 of Set 8 | quepos\n",
      "Processing Record 44 of Set 8 | midelt\n",
      "Processing Record 45 of Set 8 | sassandra\n",
      "Processing Record 46 of Set 8 | ar ruways\n",
      "Processing Record 47 of Set 8 | nurota\n",
      "Processing Record 48 of Set 8 | choibalsan\n",
      "Processing Record 49 of Set 8 | okha\n",
      "Processing Record 0 of Set 9 | aljezur\n",
      "Processing Record 1 of Set 9 | nadym\n",
      "Processing Record 2 of Set 9 | zmiyevka\n",
      "Processing Record 3 of Set 9 | sao jose da coroa grande\n",
      "Processing Record 4 of Set 9 | umm kaddadah\n",
      "Processing Record 5 of Set 9 | geraldton\n",
      "Processing Record 6 of Set 9 | cidade velha\n",
      "Processing Record 7 of Set 9 | san andros\n",
      "san andros not found. Skipping san andros\n",
      "Processing Record 8 of Set 9 | hadibu\n",
      "Processing Record 9 of Set 9 | warmbaths\n",
      "Processing Record 10 of Set 9 | daura\n",
      "Processing Record 11 of Set 9 | villa gesell\n",
      "Processing Record 12 of Set 9 | richards bay\n",
      "Processing Record 13 of Set 9 | bikenibeu village\n",
      "Processing Record 14 of Set 9 | jitra\n",
      "Processing Record 15 of Set 9 | capayan\n",
      "Processing Record 16 of Set 9 | pailon\n",
      "Processing Record 17 of Set 9 | san jeronimo de juarez\n",
      "Processing Record 18 of Set 9 | la pintada\n",
      "Processing Record 19 of Set 9 | casablanca\n",
      "Processing Record 20 of Set 9 | pong\n",
      "Processing Record 21 of Set 9 | hammerfest\n",
      "Processing Record 22 of Set 9 | rawson\n",
      "Processing Record 23 of Set 9 | kokopo\n",
      "Processing Record 24 of Set 9 | qala i naw\n",
      "Processing Record 25 of Set 9 | ta`u\n",
      "Processing Record 26 of Set 9 | gao\n",
      "Processing Record 27 of Set 9 | veraval\n",
      "Processing Record 28 of Set 9 | new norfolk\n",
      "Processing Record 29 of Set 9 | palmer\n",
      "Processing Record 30 of Set 9 | tralee\n",
      "Processing Record 31 of Set 9 | savanna-la-mar\n",
      "Processing Record 32 of Set 9 | vilhena\n",
      "Processing Record 33 of Set 9 | zhangatas\n",
      "Processing Record 34 of Set 9 | safi\n",
      "Processing Record 35 of Set 9 | rio preto da eva\n",
      "Processing Record 36 of Set 9 | blagoveshchenka\n",
      "Processing Record 37 of Set 9 | gereshk\n",
      "Processing Record 38 of Set 9 | santa eularia des riu\n",
      "Processing Record 39 of Set 9 | sinabang\n",
      "Processing Record 40 of Set 9 | bamboo flat\n",
      "Processing Record 41 of Set 9 | kavieng\n",
      "Processing Record 42 of Set 9 | sol'-iletsk\n",
      "Processing Record 43 of Set 9 | lorengau\n",
      "Processing Record 44 of Set 9 | jiexiu\n",
      "Processing Record 45 of Set 9 | borogontsy\n",
      "Processing Record 46 of Set 9 | lyubinskiy\n",
      "Processing Record 47 of Set 9 | boden\n",
      "Processing Record 48 of Set 9 | coquimbo\n",
      "Processing Record 49 of Set 9 | mount gambier\n",
      "Processing Record 0 of Set 10 | loei\n",
      "Processing Record 1 of Set 10 | angaur state\n",
      "Processing Record 2 of Set 10 | zarechnyy\n",
      "Processing Record 3 of Set 10 | champerico\n",
      "Processing Record 4 of Set 10 | sangueya\n",
      "Processing Record 5 of Set 10 | arno\n",
      "Processing Record 6 of Set 10 | changli\n",
      "Processing Record 7 of Set 10 | ancud\n",
      "Processing Record 8 of Set 10 | vsetin\n",
      "Processing Record 9 of Set 10 | santa ana de yacuma\n",
      "Processing Record 10 of Set 10 | swedru\n",
      "Processing Record 11 of Set 10 | strezhevoy\n",
      "Processing Record 12 of Set 10 | sumbe\n",
      "Processing Record 13 of Set 10 | silver city\n",
      "Processing Record 14 of Set 10 | filingue\n",
      "Processing Record 15 of Set 10 | barysh\n",
      "Processing Record 16 of Set 10 | mar del plata\n",
      "Processing Record 17 of Set 10 | nemuro\n",
      "Processing Record 18 of Set 10 | las tablas\n",
      "Processing Record 19 of Set 10 | vilyuysk\n",
      "Processing Record 20 of Set 10 | hargeysa\n",
      "Processing Record 21 of Set 10 | kraljevo\n",
      "Processing Record 22 of Set 10 | wagar\n",
      "Processing Record 23 of Set 10 | tazacorte\n",
      "Processing Record 24 of Set 10 | 'alaqahdari dishu\n",
      "Processing Record 25 of Set 10 | yegorlykskaya\n",
      "Processing Record 26 of Set 10 | inhambane\n",
      "Processing Record 27 of Set 10 | machico\n",
      "Processing Record 28 of Set 10 | gadzhiyevo\n",
      "Processing Record 29 of Set 10 | plymouth\n",
      "Processing Record 30 of Set 10 | chilca\n",
      "Processing Record 31 of Set 10 | jining\n",
      "Processing Record 32 of Set 10 | magong\n",
      "Processing Record 33 of Set 10 | nagqu\n",
      "Processing Record 34 of Set 10 | cabedelo\n",
      "Processing Record 35 of Set 10 | nuku'alofa\n",
      "Processing Record 36 of Set 10 | muang phonsavan\n",
      "Processing Record 37 of Set 10 | topolobampo\n",
      "Processing Record 38 of Set 10 | chandbali\n",
      "Processing Record 39 of Set 10 | siem reap\n",
      "Processing Record 40 of Set 10 | shirhatti\n",
      "Processing Record 41 of Set 10 | ishigaki\n",
      "Processing Record 42 of Set 10 | tangalle\n",
      "Processing Record 43 of Set 10 | sao vicente\n",
      "Processing Record 44 of Set 10 | madalena\n",
      "Processing Record 45 of Set 10 | ghat\n",
      "Processing Record 46 of Set 10 | san jose de mayo\n",
      "Processing Record 47 of Set 10 | sechenovo\n",
      "Processing Record 48 of Set 10 | rio gallegos\n",
      "Processing Record 49 of Set 10 | kalmunai\n",
      "Processing Record 0 of Set 11 | mawlaik\n",
      "Processing Record 1 of Set 11 | saint-philippe\n",
      "Processing Record 2 of Set 11 | santa maria\n",
      "Processing Record 3 of Set 11 | amga\n",
      "Processing Record 4 of Set 11 | ciudad tula\n",
      "Processing Record 5 of Set 11 | nizhniy odes\n",
      "Processing Record 6 of Set 11 | amreli\n",
      "Processing Record 7 of Set 11 | margate\n",
      "Processing Record 8 of Set 11 | chiniot\n",
      "Processing Record 9 of Set 11 | fort bragg\n",
      "Processing Record 10 of Set 11 | mizan teferi\n",
      "Processing Record 11 of Set 11 | st anne\n",
      "Processing Record 12 of Set 11 | tongliao\n",
      "Processing Record 13 of Set 11 | faya-largeau\n",
      "Processing Record 14 of Set 11 | rozhniv\n",
      "Processing Record 15 of Set 11 | brak\n",
      "Processing Record 16 of Set 11 | bull savanna\n",
      "Processing Record 17 of Set 11 | buguruslan\n",
      "Processing Record 18 of Set 11 | flying fish cove\n",
      "Processing Record 19 of Set 11 | bayan nur\n",
      "bayan nur not found. Skipping bayan nur\n",
      "Processing Record 20 of Set 11 | port lincoln\n",
      "Processing Record 21 of Set 11 | nahiyat ash shinafiyah\n",
      "Processing Record 22 of Set 11 | grootfontein\n",
      "Processing Record 23 of Set 11 | souillac\n",
      "Processing Record 24 of Set 11 | muscat\n",
      "Processing Record 25 of Set 11 | kabare\n",
      "Processing Record 26 of Set 11 | saint john\n",
      "Processing Record 27 of Set 11 | camocim\n",
      "Processing Record 28 of Set 11 | kindu\n",
      "Processing Record 29 of Set 11 | weisendorf\n",
      "Processing Record 30 of Set 11 | trinidad\n",
      "Processing Record 31 of Set 11 | akureyri\n",
      "Processing Record 32 of Set 11 | valparaiso\n",
      "Processing Record 33 of Set 11 | mount pearl\n",
      "Processing Record 34 of Set 11 | mogadishu\n",
      "Processing Record 35 of Set 11 | kumagunnam\n",
      "Processing Record 36 of Set 11 | lagoa\n",
      "Processing Record 37 of Set 11 | beteza\n",
      "beteza not found. Skipping beteza\n",
      "Processing Record 38 of Set 11 | medicine hat\n",
      "Processing Record 39 of Set 11 | dehiwala-mount lavinia\n",
      "dehiwala-mount lavinia not found. Skipping dehiwala-mount lavinia\n",
      "Processing Record 40 of Set 11 | khorixas\n",
      "Processing Record 41 of Set 11 | conceicao da barra\n",
      "Processing Record 42 of Set 11 | alaghsas\n",
      "Processing Record 43 of Set 11 | kismayo\n",
      "Processing Record 44 of Set 11 | usogorsk\n",
      "Processing Record 45 of Set 11 | praia da vitoria\n",
      "Processing Record 46 of Set 11 | kangding\n",
      "Processing Record 47 of Set 11 | zuwarah\n",
      "Processing Record 48 of Set 11 | nabire\n",
      "Processing Record 49 of Set 11 | fale old settlement\n",
      "Processing Record 0 of Set 12 | farkhar\n",
      "Processing Record 1 of Set 12 | hoi an\n",
      "Processing Record 2 of Set 12 | kegen\n",
      "Processing Record 3 of Set 12 | veymandoo\n",
      "veymandoo not found. Skipping veymandoo\n",
      "Processing Record 4 of Set 12 | labuan\n"
     ]
    },
    {
     "name": "stdout",
     "output_type": "stream",
     "text": [
      "Processing Record 5 of Set 12 | la paz\n",
      "Processing Record 6 of Set 12 | sept-iles\n",
      "Processing Record 7 of Set 12 | kawthoung\n",
      "kawthoung not found. Skipping kawthoung\n",
      "Processing Record 8 of Set 12 | savalou\n",
      "Processing Record 9 of Set 12 | baukau\n",
      "Processing Record 10 of Set 12 | hoemul-li\n",
      "Processing Record 11 of Set 12 | broome\n",
      "Processing Record 12 of Set 12 | mutum\n",
      "Processing Record 13 of Set 12 | vilcun\n",
      "Processing Record 14 of Set 12 | cherokee\n",
      "Processing Record 15 of Set 12 | buala\n",
      "Processing Record 16 of Set 12 | okhotsk\n",
      "Processing Record 17 of Set 12 | bani yas city\n",
      "bani yas city not found. Skipping bani yas city\n",
      "Processing Record 18 of Set 12 | krosno odrzanskie\n",
      "Processing Record 19 of Set 12 | pasighat\n",
      "Processing Record 20 of Set 12 | saint-joseph\n",
      "Processing Record 21 of Set 12 | gonaives\n",
      "Processing Record 22 of Set 12 | longboat key\n",
      "Processing Record 23 of Set 12 | kerben\n",
      "Processing Record 24 of Set 12 | katsuura\n",
      "Processing Record 25 of Set 12 | kentville\n",
      "-----------------------------\n",
      "Data Retrieval Complete      \n",
      "-----------------------------\n"
     ]
    }
   ],
   "source": [
    "# Set the API base URL\n",
    "url = \"https://api.openweathermap.org/data/2.5/weather?appid=\" + weather_api_key\n",
    "\n",
    "# Define an empty list to fetch the weather data for each city\n",
    "city_data = []\n",
    "\n",
    "# Print to logger\n",
    "print(\"Beginning Data Retrieval     \")\n",
    "print(\"-----------------------------\")\n",
    "\n",
    "# Create counters\n",
    "record_count = 1\n",
    "set_count = 1\n",
    "\n",
    "# Loop through all the cities in our list to fetch weather data\n",
    "for i, city in enumerate(cities):\n",
    "        \n",
    "    # Group cities in sets of 50 for logging purposes\n",
    "    if (i % 50 == 0 and i >= 50):\n",
    "        set_count += 1\n",
    "        record_count = 0\n",
    "\n",
    "    # Create endpoint URL with each city and set units equal to metric\n",
    "    city_url = url + \"&q=\" + str(city) + \"&units=metric\"\n",
    "    \n",
    "    # Log the url, record, and set numbers\n",
    "    print(\"Processing Record %s of Set %s | %s\" % (record_count, set_count, city))\n",
    "\n",
    "    # Add 1 to the record count\n",
    "    record_count += 1\n",
    "\n",
    "    # Run an API request for each of the cities\n",
    "    try:\n",
    "        # Parse the JSON and retrieve data\n",
    "        city_weather = requests.get(city_url).json()\n",
    "\n",
    "        # Parse out latitude, longitude, max temp, humidity, cloudiness, wind speed, country, and date\n",
    "        city_lat = city_weather[\"coord\"][\"lat\"]\n",
    "        city_lng = city_weather[\"coord\"][\"lon\"]\n",
    "        city_max_temp = city_weather[\"main\"][\"temp_max\"]\n",
    "        city_humidity = city_weather[\"main\"][\"humidity\"]\n",
    "        city_clouds = city_weather[\"clouds\"][\"all\"]\n",
    "        city_wind = city_weather[\"wind\"][\"speed\"]\n",
    "        city_country = city_weather[\"sys\"][\"country\"]\n",
    "        unix_city_date = int(city_weather[\"dt\"])\n",
    "        city_date = str(datetime.utcfromtimestamp(unix_city_date).strftime('%Y-%m-%d'))\n",
    "\n",
    "        # Append the City information into city_data list\n",
    "        city_data.append({\"City\": city, \n",
    "                          \"Lat\": city_lat, \n",
    "                          \"Lng\": city_lng, \n",
    "                          \"Max Temp\": city_max_temp,\n",
    "                          \"Humidity\": city_humidity,\n",
    "                          \"Cloudiness\": city_clouds,\n",
    "                          \"Wind Speed\": city_wind,\n",
    "                          \"Country\": city_country,\n",
    "                          \"Date\": city_date})\n",
    "\n",
    "    # If an error is experienced, skip the city\n",
    "    except:\n",
    "        print(f\"{city} not found. Skipping {city}\")\n",
    "        pass\n",
    "              \n",
    "# Indicate that Data Loading is complete \n",
    "print(\"-----------------------------\")\n",
    "print(\"Data Retrieval Complete      \")\n",
    "print(\"-----------------------------\")"
   ]
  },
  {
   "cell_type": "code",
   "execution_count": 9,
   "metadata": {},
   "outputs": [
    {
     "data": {
      "text/plain": [
       "City          547\n",
       "Lat           547\n",
       "Lng           547\n",
       "Max Temp      547\n",
       "Humidity      547\n",
       "Cloudiness    547\n",
       "Wind Speed    547\n",
       "Country       547\n",
       "Date          547\n",
       "dtype: int64"
      ]
     },
     "execution_count": 9,
     "metadata": {},
     "output_type": "execute_result"
    }
   ],
   "source": [
    "# Convert the cities weather data into a Pandas DataFrame\n",
    "city_data_df = pd.DataFrame(city_data)\n",
    "\n",
    "\n",
    "# Show Record Count\n",
    "city_data_df.count()"
   ]
  },
  {
   "cell_type": "code",
   "execution_count": 10,
   "metadata": {},
   "outputs": [
    {
     "data": {
      "text/html": [
       "<div>\n",
       "<style scoped>\n",
       "    .dataframe tbody tr th:only-of-type {\n",
       "        vertical-align: middle;\n",
       "    }\n",
       "\n",
       "    .dataframe tbody tr th {\n",
       "        vertical-align: top;\n",
       "    }\n",
       "\n",
       "    .dataframe thead th {\n",
       "        text-align: right;\n",
       "    }\n",
       "</style>\n",
       "<table border=\"1\" class=\"dataframe\">\n",
       "  <thead>\n",
       "    <tr style=\"text-align: right;\">\n",
       "      <th></th>\n",
       "      <th>City</th>\n",
       "      <th>Lat</th>\n",
       "      <th>Lng</th>\n",
       "      <th>Max Temp</th>\n",
       "      <th>Humidity</th>\n",
       "      <th>Cloudiness</th>\n",
       "      <th>Wind Speed</th>\n",
       "      <th>Country</th>\n",
       "      <th>Date</th>\n",
       "    </tr>\n",
       "  </thead>\n",
       "  <tbody>\n",
       "    <tr>\n",
       "      <th>0</th>\n",
       "      <td>inirida</td>\n",
       "      <td>3.8653</td>\n",
       "      <td>-67.9239</td>\n",
       "      <td>24.02</td>\n",
       "      <td>98</td>\n",
       "      <td>100</td>\n",
       "      <td>0.42</td>\n",
       "      <td>CO</td>\n",
       "      <td>2023-04-23</td>\n",
       "    </tr>\n",
       "    <tr>\n",
       "      <th>1</th>\n",
       "      <td>junin de los andes</td>\n",
       "      <td>-39.9504</td>\n",
       "      <td>-71.0694</td>\n",
       "      <td>13.75</td>\n",
       "      <td>65</td>\n",
       "      <td>3</td>\n",
       "      <td>1.20</td>\n",
       "      <td>AR</td>\n",
       "      <td>2023-04-23</td>\n",
       "    </tr>\n",
       "    <tr>\n",
       "      <th>2</th>\n",
       "      <td>edinburgh of the seven seas</td>\n",
       "      <td>-37.0676</td>\n",
       "      <td>-12.3116</td>\n",
       "      <td>15.47</td>\n",
       "      <td>86</td>\n",
       "      <td>100</td>\n",
       "      <td>12.30</td>\n",
       "      <td>SH</td>\n",
       "      <td>2023-04-23</td>\n",
       "    </tr>\n",
       "    <tr>\n",
       "      <th>3</th>\n",
       "      <td>albany</td>\n",
       "      <td>42.6001</td>\n",
       "      <td>-73.9662</td>\n",
       "      <td>11.61</td>\n",
       "      <td>86</td>\n",
       "      <td>97</td>\n",
       "      <td>2.90</td>\n",
       "      <td>US</td>\n",
       "      <td>2023-04-23</td>\n",
       "    </tr>\n",
       "    <tr>\n",
       "      <th>4</th>\n",
       "      <td>hamilton</td>\n",
       "      <td>39.1834</td>\n",
       "      <td>-84.5333</td>\n",
       "      <td>8.82</td>\n",
       "      <td>53</td>\n",
       "      <td>100</td>\n",
       "      <td>6.17</td>\n",
       "      <td>US</td>\n",
       "      <td>2023-04-23</td>\n",
       "    </tr>\n",
       "  </tbody>\n",
       "</table>\n",
       "</div>"
      ],
      "text/plain": [
       "                          City      Lat      Lng  Max Temp  Humidity  \\\n",
       "0                      inirida   3.8653 -67.9239     24.02        98   \n",
       "1           junin de los andes -39.9504 -71.0694     13.75        65   \n",
       "2  edinburgh of the seven seas -37.0676 -12.3116     15.47        86   \n",
       "3                       albany  42.6001 -73.9662     11.61        86   \n",
       "4                     hamilton  39.1834 -84.5333      8.82        53   \n",
       "\n",
       "   Cloudiness  Wind Speed Country        Date  \n",
       "0         100        0.42      CO  2023-04-23  \n",
       "1           3        1.20      AR  2023-04-23  \n",
       "2         100       12.30      SH  2023-04-23  \n",
       "3          97        2.90      US  2023-04-23  \n",
       "4         100        6.17      US  2023-04-23  "
      ]
     },
     "execution_count": 10,
     "metadata": {},
     "output_type": "execute_result"
    }
   ],
   "source": [
    "# Display sample data\n",
    "city_data_df.head()"
   ]
  },
  {
   "cell_type": "code",
   "execution_count": 11,
   "metadata": {},
   "outputs": [],
   "source": [
    "# Export the City_Data into a csv\n",
    "city_data_df.to_csv(\"output_data/cities.csv\", index_label=\"City_ID\")"
   ]
  },
  {
   "cell_type": "code",
   "execution_count": 12,
   "metadata": {},
   "outputs": [
    {
     "data": {
      "text/html": [
       "<div>\n",
       "<style scoped>\n",
       "    .dataframe tbody tr th:only-of-type {\n",
       "        vertical-align: middle;\n",
       "    }\n",
       "\n",
       "    .dataframe tbody tr th {\n",
       "        vertical-align: top;\n",
       "    }\n",
       "\n",
       "    .dataframe thead th {\n",
       "        text-align: right;\n",
       "    }\n",
       "</style>\n",
       "<table border=\"1\" class=\"dataframe\">\n",
       "  <thead>\n",
       "    <tr style=\"text-align: right;\">\n",
       "      <th></th>\n",
       "      <th>City</th>\n",
       "      <th>Lat</th>\n",
       "      <th>Lng</th>\n",
       "      <th>Max Temp</th>\n",
       "      <th>Humidity</th>\n",
       "      <th>Cloudiness</th>\n",
       "      <th>Wind Speed</th>\n",
       "      <th>Country</th>\n",
       "      <th>Date</th>\n",
       "    </tr>\n",
       "    <tr>\n",
       "      <th>City_ID</th>\n",
       "      <th></th>\n",
       "      <th></th>\n",
       "      <th></th>\n",
       "      <th></th>\n",
       "      <th></th>\n",
       "      <th></th>\n",
       "      <th></th>\n",
       "      <th></th>\n",
       "      <th></th>\n",
       "    </tr>\n",
       "  </thead>\n",
       "  <tbody>\n",
       "    <tr>\n",
       "      <th>0</th>\n",
       "      <td>inirida</td>\n",
       "      <td>3.8653</td>\n",
       "      <td>-67.9239</td>\n",
       "      <td>24.02</td>\n",
       "      <td>98</td>\n",
       "      <td>100</td>\n",
       "      <td>0.42</td>\n",
       "      <td>CO</td>\n",
       "      <td>2023-04-23</td>\n",
       "    </tr>\n",
       "    <tr>\n",
       "      <th>1</th>\n",
       "      <td>junin de los andes</td>\n",
       "      <td>-39.9504</td>\n",
       "      <td>-71.0694</td>\n",
       "      <td>13.75</td>\n",
       "      <td>65</td>\n",
       "      <td>3</td>\n",
       "      <td>1.20</td>\n",
       "      <td>AR</td>\n",
       "      <td>2023-04-23</td>\n",
       "    </tr>\n",
       "    <tr>\n",
       "      <th>2</th>\n",
       "      <td>edinburgh of the seven seas</td>\n",
       "      <td>-37.0676</td>\n",
       "      <td>-12.3116</td>\n",
       "      <td>15.47</td>\n",
       "      <td>86</td>\n",
       "      <td>100</td>\n",
       "      <td>12.30</td>\n",
       "      <td>SH</td>\n",
       "      <td>2023-04-23</td>\n",
       "    </tr>\n",
       "    <tr>\n",
       "      <th>3</th>\n",
       "      <td>albany</td>\n",
       "      <td>42.6001</td>\n",
       "      <td>-73.9662</td>\n",
       "      <td>11.61</td>\n",
       "      <td>86</td>\n",
       "      <td>97</td>\n",
       "      <td>2.90</td>\n",
       "      <td>US</td>\n",
       "      <td>2023-04-23</td>\n",
       "    </tr>\n",
       "    <tr>\n",
       "      <th>4</th>\n",
       "      <td>hamilton</td>\n",
       "      <td>39.1834</td>\n",
       "      <td>-84.5333</td>\n",
       "      <td>8.82</td>\n",
       "      <td>53</td>\n",
       "      <td>100</td>\n",
       "      <td>6.17</td>\n",
       "      <td>US</td>\n",
       "      <td>2023-04-23</td>\n",
       "    </tr>\n",
       "  </tbody>\n",
       "</table>\n",
       "</div>"
      ],
      "text/plain": [
       "                                City      Lat      Lng  Max Temp  Humidity  \\\n",
       "City_ID                                                                      \n",
       "0                            inirida   3.8653 -67.9239     24.02        98   \n",
       "1                 junin de los andes -39.9504 -71.0694     13.75        65   \n",
       "2        edinburgh of the seven seas -37.0676 -12.3116     15.47        86   \n",
       "3                             albany  42.6001 -73.9662     11.61        86   \n",
       "4                           hamilton  39.1834 -84.5333      8.82        53   \n",
       "\n",
       "         Cloudiness  Wind Speed Country        Date  \n",
       "City_ID                                              \n",
       "0               100        0.42      CO  2023-04-23  \n",
       "1                 3        1.20      AR  2023-04-23  \n",
       "2               100       12.30      SH  2023-04-23  \n",
       "3                97        2.90      US  2023-04-23  \n",
       "4               100        6.17      US  2023-04-23  "
      ]
     },
     "execution_count": 12,
     "metadata": {},
     "output_type": "execute_result"
    }
   ],
   "source": [
    "# Read saved data\n",
    "city_data_df = pd.read_csv(\"output_data/cities.csv\", index_col=\"City_ID\")\n",
    "\n",
    "# Display sample data\n",
    "city_data_df.head()"
   ]
  },
  {
   "cell_type": "markdown",
   "metadata": {},
   "source": [
    "### Create the Scatter Plots Requested\n",
    "\n",
    "#### Latitude Vs. Temperature"
   ]
  },
  {
   "cell_type": "code",
   "execution_count": 23,
   "metadata": {
    "tags": []
   },
   "outputs": [
    {
     "data": {
      "image/png": "[encoded data removed]",
      "text/plain": [
       "<Figure size 432x288 with 1 Axes>"
      ]
     },
     "metadata": {
      "needs_background": "light"
     },
     "output_type": "display_data"
    }
   ],
   "source": [
    "# Build scatter plot for latitude vs. temperature\n",
    "lat_temp = city_data_df.plot(\"Lat\", \"Max Temp\", kind=\"scatter\")\n",
    "\n",
    "# Incorporate the other graph properties\n",
    "plt.xlabel(\"Latitude\")\n",
    "plt.ylabel(\"Max Temperature (C)\")\n",
    "date = city_data_df[\"Date\"][0]\n",
    "plt.title(f\"City Latitude vs. Max Temperature ({date})\")\n",
    "\n",
    "# Save the figure\n",
    "plt.savefig(\"output_data/Fig1.png\")\n",
    "\n",
    "# Show plot\n",
    "plt.show()"
   ]
  },
  {
   "cell_type": "markdown",
   "metadata": {},
   "source": [
    "#### Latitude Vs. Humidity"
   ]
  },
  {
   "cell_type": "code",
   "execution_count": 22,
   "metadata": {},
   "outputs": [
    {
     "data": {
      "image/png": "[encoded data removed]",
      "text/plain": [
       "<Figure size 432x288 with 1 Axes>"
      ]
     },
     "metadata": {
      "needs_background": "light"
     },
     "output_type": "display_data"
    }
   ],
   "source": [
    "# Build the scatter plots for latitude vs. humidity\n",
    "lat_hum = city_data_df.plot(\"Lat\", \"Humidity\", kind=\"scatter\")\n",
    "\n",
    "# Incorporate the other graph properties\n",
    "plt.xlabel(\"Latitude\")\n",
    "plt.ylabel(\"Humidity (%)\")\n",
    "date = city_data_df[\"Date\"][0]\n",
    "plt.title(f\"City Latitude vs. Humidity ({date})\")\n",
    "\n",
    "# Save the figure\n",
    "plt.savefig(\"output_data/Fig2.png\")\n",
    "\n",
    "# Show plot\n",
    "plt.show()"
   ]
  },
  {
   "cell_type": "markdown",
   "metadata": {},
   "source": [
    "#### Latitude Vs. Cloudiness"
   ]
  },
  {
   "cell_type": "code",
   "execution_count": 21,
   "metadata": {},
   "outputs": [
    {
     "data": {
      "image/png": "[encoded data removed]",
      "text/plain": [
       "<Figure size 432x288 with 1 Axes>"
      ]
     },
     "metadata": {
      "needs_background": "light"
     },
     "output_type": "display_data"
    }
   ],
   "source": [
    "# Build the scatter plots for latitude vs. cloudiness\n",
    "lat_cloud = city_data_df.plot(\"Lat\", \"Cloudiness\", kind=\"scatter\")\n",
    "\n",
    "# Incorporate the other graph properties\n",
    "plt.xlabel(\"Latitude\")\n",
    "plt.ylabel(\"Cloudiness (%)\")\n",
    "date = city_data_df[\"Date\"][0]\n",
    "plt.title(f\"City Latitude vs. Cloudiness ({date})\")\n",
    "\n",
    "# Save the figure\n",
    "plt.savefig(\"output_data/Fig3.png\")\n",
    "\n",
    "# Show plot\n",
    "plt.show()"
   ]
  },
  {
   "cell_type": "markdown",
   "metadata": {},
   "source": [
    "#### Latitude vs. Wind Speed Plot"
   ]
  },
  {
   "cell_type": "code",
   "execution_count": 20,
   "metadata": {},
   "outputs": [
    {
     "data": {
      "image/png": "[encoded data removed]",
      "text/plain": [
       "<Figure size 432x288 with 1 Axes>"
      ]
     },
     "metadata": {
      "needs_background": "light"
     },
     "output_type": "display_data"
    }
   ],
   "source": [
    "# Build the scatter plots for latitude vs. wind speed\n",
    "lat_wind = city_data_df.plot(\"Lat\", \"Wind Speed\", kind=\"scatter\")\n",
    "\n",
    "# Incorporate the other graph properties\n",
    "plt.xlabel(\"Latitude\")\n",
    "plt.ylabel(\"Wind Speed (m/s)\")\n",
    "date = city_data_df[\"Date\"][0]\n",
    "plt.title(f\"City Latitude vs. Wind Speed ({date})\")\n",
    "\n",
    "# Save the figure\n",
    "plt.savefig(\"output_data/Fig4.png\")\n",
    "\n",
    "# Show plot\n",
    "plt.show()"
   ]
  },
  {
   "cell_type": "markdown",
   "metadata": {},
   "source": [
    "---\n",
    "\n",
    "## Requirement 2: Compute Linear Regression for Each Relationship\n"
   ]
  },
  {
   "cell_type": "code",
   "execution_count": 28,
   "metadata": {},
   "outputs": [],
   "source": [
    "# Define a function to create Linear Regression plots\n",
    "    #function takes inputs for x and y values; inputs will need entered as strings\n",
    "def lin_regress(dataframe, x_axis, y_axis):\n",
    "    x_values = dataframe[x_axis]\n",
    "    y_values = dataframe[y_axis]\n",
    "    (slope, intercept, rvalue, pvalue, stderr) = linregress(x_values, y_values)\n",
    "    regress_values = x_values * slope + intercept\n",
    "    line_eq = \"y = \" + str(round(slope,2)) + \"x + \" + str(round(intercept,2))\n",
    "    return ((x_values, y_values, rvalue, regress_values, line_eq))"
   ]
  },
  {
   "cell_type": "code",
   "execution_count": 29,
   "metadata": {},
   "outputs": [
    {
     "data": {
      "text/html": [
       "<div>\n",
       "<style scoped>\n",
       "    .dataframe tbody tr th:only-of-type {\n",
       "        vertical-align: middle;\n",
       "    }\n",
       "\n",
       "    .dataframe tbody tr th {\n",
       "        vertical-align: top;\n",
       "    }\n",
       "\n",
       "    .dataframe thead th {\n",
       "        text-align: right;\n",
       "    }\n",
       "</style>\n",
       "<table border=\"1\" class=\"dataframe\">\n",
       "  <thead>\n",
       "    <tr style=\"text-align: right;\">\n",
       "      <th></th>\n",
       "      <th>City</th>\n",
       "      <th>Lat</th>\n",
       "      <th>Lng</th>\n",
       "      <th>Max Temp</th>\n",
       "      <th>Humidity</th>\n",
       "      <th>Cloudiness</th>\n",
       "      <th>Wind Speed</th>\n",
       "      <th>Country</th>\n",
       "      <th>Date</th>\n",
       "    </tr>\n",
       "    <tr>\n",
       "      <th>City_ID</th>\n",
       "      <th></th>\n",
       "      <th></th>\n",
       "      <th></th>\n",
       "      <th></th>\n",
       "      <th></th>\n",
       "      <th></th>\n",
       "      <th></th>\n",
       "      <th></th>\n",
       "      <th></th>\n",
       "    </tr>\n",
       "  </thead>\n",
       "  <tbody>\n",
       "    <tr>\n",
       "      <th>0</th>\n",
       "      <td>inirida</td>\n",
       "      <td>3.8653</td>\n",
       "      <td>-67.9239</td>\n",
       "      <td>24.02</td>\n",
       "      <td>98</td>\n",
       "      <td>100</td>\n",
       "      <td>0.42</td>\n",
       "      <td>CO</td>\n",
       "      <td>2023-04-23</td>\n",
       "    </tr>\n",
       "    <tr>\n",
       "      <th>3</th>\n",
       "      <td>albany</td>\n",
       "      <td>42.6001</td>\n",
       "      <td>-73.9662</td>\n",
       "      <td>11.61</td>\n",
       "      <td>86</td>\n",
       "      <td>97</td>\n",
       "      <td>2.90</td>\n",
       "      <td>US</td>\n",
       "      <td>2023-04-23</td>\n",
       "    </tr>\n",
       "    <tr>\n",
       "      <th>4</th>\n",
       "      <td>hamilton</td>\n",
       "      <td>39.1834</td>\n",
       "      <td>-84.5333</td>\n",
       "      <td>8.82</td>\n",
       "      <td>53</td>\n",
       "      <td>100</td>\n",
       "      <td>6.17</td>\n",
       "      <td>US</td>\n",
       "      <td>2023-04-23</td>\n",
       "    </tr>\n",
       "    <tr>\n",
       "      <th>7</th>\n",
       "      <td>iqaluit</td>\n",
       "      <td>63.7506</td>\n",
       "      <td>-68.5145</td>\n",
       "      <td>-0.15</td>\n",
       "      <td>100</td>\n",
       "      <td>100</td>\n",
       "      <td>5.14</td>\n",
       "      <td>CA</td>\n",
       "      <td>2023-04-23</td>\n",
       "    </tr>\n",
       "    <tr>\n",
       "      <th>8</th>\n",
       "      <td>klyuchi</td>\n",
       "      <td>52.2667</td>\n",
       "      <td>79.1667</td>\n",
       "      <td>7.59</td>\n",
       "      <td>54</td>\n",
       "      <td>89</td>\n",
       "      <td>7.56</td>\n",
       "      <td>RU</td>\n",
       "      <td>2023-04-23</td>\n",
       "    </tr>\n",
       "  </tbody>\n",
       "</table>\n",
       "</div>"
      ],
      "text/plain": [
       "             City      Lat      Lng  Max Temp  Humidity  Cloudiness  \\\n",
       "City_ID                                                               \n",
       "0         inirida   3.8653 -67.9239     24.02        98         100   \n",
       "3          albany  42.6001 -73.9662     11.61        86          97   \n",
       "4        hamilton  39.1834 -84.5333      8.82        53         100   \n",
       "7         iqaluit  63.7506 -68.5145     -0.15       100         100   \n",
       "8         klyuchi  52.2667  79.1667      7.59        54          89   \n",
       "\n",
       "         Wind Speed Country        Date  \n",
       "City_ID                                  \n",
       "0              0.42      CO  2023-04-23  \n",
       "3              2.90      US  2023-04-23  \n",
       "4              6.17      US  2023-04-23  \n",
       "7              5.14      CA  2023-04-23  \n",
       "8              7.56      RU  2023-04-23  "
      ]
     },
     "execution_count": 29,
     "metadata": {},
     "output_type": "execute_result"
    }
   ],
   "source": [
    "# Create a DataFrame with the Northern Hemisphere data (Latitude >= 0)\n",
    "northern_hemi_df = city_data_df.loc[city_data_df[\"Lat\"] >= 0, :]\n",
    "\n",
    "# Display sample data\n",
    "northern_hemi_df.head()"
   ]
  },
  {
   "cell_type": "code",
   "execution_count": 30,
   "metadata": {},
   "outputs": [
    {
     "data": {
      "text/html": [
       "<div>\n",
       "<style scoped>\n",
       "    .dataframe tbody tr th:only-of-type {\n",
       "        vertical-align: middle;\n",
       "    }\n",
       "\n",
       "    .dataframe tbody tr th {\n",
       "        vertical-align: top;\n",
       "    }\n",
       "\n",
       "    .dataframe thead th {\n",
       "        text-align: right;\n",
       "    }\n",
       "</style>\n",
       "<table border=\"1\" class=\"dataframe\">\n",
       "  <thead>\n",
       "    <tr style=\"text-align: right;\">\n",
       "      <th></th>\n",
       "      <th>City</th>\n",
       "      <th>Lat</th>\n",
       "      <th>Lng</th>\n",
       "      <th>Max Temp</th>\n",
       "      <th>Humidity</th>\n",
       "      <th>Cloudiness</th>\n",
       "      <th>Wind Speed</th>\n",
       "      <th>Country</th>\n",
       "      <th>Date</th>\n",
       "    </tr>\n",
       "    <tr>\n",
       "      <th>City_ID</th>\n",
       "      <th></th>\n",
       "      <th></th>\n",
       "      <th></th>\n",
       "      <th></th>\n",
       "      <th></th>\n",
       "      <th></th>\n",
       "      <th></th>\n",
       "      <th></th>\n",
       "      <th></th>\n",
       "    </tr>\n",
       "  </thead>\n",
       "  <tbody>\n",
       "    <tr>\n",
       "      <th>1</th>\n",
       "      <td>junin de los andes</td>\n",
       "      <td>-39.9504</td>\n",
       "      <td>-71.0694</td>\n",
       "      <td>13.75</td>\n",
       "      <td>65</td>\n",
       "      <td>3</td>\n",
       "      <td>1.20</td>\n",
       "      <td>AR</td>\n",
       "      <td>2023-04-23</td>\n",
       "    </tr>\n",
       "    <tr>\n",
       "      <th>2</th>\n",
       "      <td>edinburgh of the seven seas</td>\n",
       "      <td>-37.0676</td>\n",
       "      <td>-12.3116</td>\n",
       "      <td>15.47</td>\n",
       "      <td>86</td>\n",
       "      <td>100</td>\n",
       "      <td>12.30</td>\n",
       "      <td>SH</td>\n",
       "      <td>2023-04-23</td>\n",
       "    </tr>\n",
       "    <tr>\n",
       "      <th>5</th>\n",
       "      <td>atafu village</td>\n",
       "      <td>-8.5421</td>\n",
       "      <td>-172.5159</td>\n",
       "      <td>28.67</td>\n",
       "      <td>73</td>\n",
       "      <td>34</td>\n",
       "      <td>2.22</td>\n",
       "      <td>TK</td>\n",
       "      <td>2023-04-23</td>\n",
       "    </tr>\n",
       "    <tr>\n",
       "      <th>6</th>\n",
       "      <td>grytviken</td>\n",
       "      <td>-54.2811</td>\n",
       "      <td>-36.5092</td>\n",
       "      <td>3.52</td>\n",
       "      <td>96</td>\n",
       "      <td>100</td>\n",
       "      <td>5.20</td>\n",
       "      <td>GS</td>\n",
       "      <td>2023-04-23</td>\n",
       "    </tr>\n",
       "    <tr>\n",
       "      <th>11</th>\n",
       "      <td>west island</td>\n",
       "      <td>-12.1568</td>\n",
       "      <td>96.8225</td>\n",
       "      <td>26.99</td>\n",
       "      <td>89</td>\n",
       "      <td>40</td>\n",
       "      <td>4.12</td>\n",
       "      <td>CC</td>\n",
       "      <td>2023-04-23</td>\n",
       "    </tr>\n",
       "  </tbody>\n",
       "</table>\n",
       "</div>"
      ],
      "text/plain": [
       "                                City      Lat       Lng  Max Temp  Humidity  \\\n",
       "City_ID                                                                       \n",
       "1                 junin de los andes -39.9504  -71.0694     13.75        65   \n",
       "2        edinburgh of the seven seas -37.0676  -12.3116     15.47        86   \n",
       "5                      atafu village  -8.5421 -172.5159     28.67        73   \n",
       "6                          grytviken -54.2811  -36.5092      3.52        96   \n",
       "11                       west island -12.1568   96.8225     26.99        89   \n",
       "\n",
       "         Cloudiness  Wind Speed Country        Date  \n",
       "City_ID                                              \n",
       "1                 3        1.20      AR  2023-04-23  \n",
       "2               100       12.30      SH  2023-04-23  \n",
       "5                34        2.22      TK  2023-04-23  \n",
       "6               100        5.20      GS  2023-04-23  \n",
       "11               40        4.12      CC  2023-04-23  "
      ]
     },
     "execution_count": 30,
     "metadata": {},
     "output_type": "execute_result"
    }
   ],
   "source": [
    "# Create a DataFrame with the Southern Hemisphere data (Latitude < 0)\n",
    "southern_hemi_df = city_data_df.loc[city_data_df[\"Lat\"] <= 0, :]\n",
    "\n",
    "# Display sample data\n",
    "southern_hemi_df.head()"
   ]
  },
  {
   "cell_type": "markdown",
   "metadata": {},
   "source": [
    "###  Temperature vs. Latitude Linear Regression Plot"
   ]
  },
  {
   "cell_type": "code",
   "execution_count": 66,
   "metadata": {},
   "outputs": [
    {
     "name": "stdout",
     "output_type": "stream",
     "text": [
      "The r values is: -0.8645986798075053\n"
     ]
    },
    {
     "data": {
      "image/png": "[encoded data removed]",
      "text/plain": [
       "<Figure size 432x288 with 1 Axes>"
      ]
     },
     "metadata": {
      "needs_background": "light"
     },
     "output_type": "display_data"
    }
   ],
   "source": [
    "# Linear regression on Northern Hemisphere\n",
    "(x_values, y_values, rvalue, regress_values, line_eq) = lin_regress(northern_hemi_df, 'Lat', 'Max Temp')\n",
    "print(f\"The r values is: {rvalue}\")\n",
    "plt.scatter(x_values,y_values)\n",
    "plt.plot(x_values,regress_values,\"r-\")\n",
    "plt.annotate(line_eq,(5.8,0.8),fontsize=15,color=\"red\")\n",
    "xlabel = 'Latitude'\n",
    "ylabel = 'Max Temp'\n",
    "plt.xlabel(xlabel)\n",
    "plt.ylabel(ylabel)\n",
    "plt.title(f\"Northern Hemisphere {xlabel} vs. {ylabel} Linear Regression\")\n",
    "plt.show()\n"
   ]
  },
  {
   "cell_type": "code",
   "execution_count": 67,
   "metadata": {},
   "outputs": [
    {
     "name": "stdout",
     "output_type": "stream",
     "text": [
      "The r values is: 0.8244213308821744\n"
     ]
    },
    {
     "data": {
      "image/png": "[encoded data removed]",
      "text/plain": [
       "<Figure size 432x288 with 1 Axes>"
      ]
     },
     "metadata": {
      "needs_background": "light"
     },
     "output_type": "display_data"
    }
   ],
   "source": [
    "# Linear regression on Southern Hemisphere\n",
    "(x_values, y_values, rvalue, regress_values, line_eq) = lin_regress(southern_hemi_df, 'Lat', 'Max Temp')\n",
    "print(f\"The r values is: {rvalue}\")\n",
    "plt.scatter(x_values,y_values)\n",
    "plt.plot(x_values,regress_values,\"r-\")\n",
    "plt.annotate(line_eq,(-40,10),xycoords='data', fontsize=15,color=\"red\")\n",
    "xlabel = 'Latitude'\n",
    "ylabel = 'Max Temp'\n",
    "plt.xlabel(xlabel)\n",
    "plt.ylabel(ylabel)\n",
    "plt.title(f\"Southern Hemisphere {xlabel} vs. {ylabel} Linear Regression\")\n",
    "plt.show()"
   ]
  },
  {
   "cell_type": "markdown",
   "metadata": {},
   "source": [
    "**Discussion about the linear relationship:** In regards to latitiude vs max temp, the northern hemisphere has a negative correlation - as latitude increases, max temp decreases. In regards to latitiude vs max temp, the southern hemisphere has a postive correlation - as latitude increases, max temp decrease."
   ]
  },
  {
   "cell_type": "markdown",
   "metadata": {},
   "source": [
    "### Humidity vs. Latitude Linear Regression Plot"
   ]
  },
  {
   "cell_type": "code",
   "execution_count": 52,
   "metadata": {},
   "outputs": [
    {
     "name": "stdout",
     "output_type": "stream",
     "text": [
      "The r values is: 0.1258366717371019\n"
     ]
    },
    {
     "data": {
      "image/png": "[encoded data removed]",
      "text/plain": [
       "<Figure size 432x288 with 1 Axes>"
      ]
     },
     "metadata": {
      "needs_background": "light"
     },
     "output_type": "display_data"
    }
   ],
   "source": [
    "# Linear regression on Northern Hemisphere\n",
    "(x_values, y_values, rvalue, regress_values, line_eq) = lin_regress(northern_hemi_df, 'Lat', 'Humidity')\n",
    "print(f\"The r values is: {rvalue}\")\n",
    "plt.scatter(x_values,y_values)\n",
    "plt.plot(x_values,regress_values,\"r-\")\n",
    "plt.annotate(line_eq,(40,40),fontsize=15,color=\"red\")\n",
    "xlabel = 'Latitude'\n",
    "ylabel = 'Humidity'\n",
    "plt.xlabel(xlabel)\n",
    "plt.ylabel(ylabel)\n",
    "plt.title(f\"Northern Hemisphere {xlabel} vs. {ylabel} Linear Regression\")\n",
    "plt.show()"
   ]
  },
  {
   "cell_type": "code",
   "execution_count": 68,
   "metadata": {},
   "outputs": [
    {
     "name": "stdout",
     "output_type": "stream",
     "text": [
      "The r values is: 0.2138115810633773\n"
     ]
    },
    {
     "data": {
      "image/png": "[encoded data removed]",
      "text/plain": [
       "<Figure size 432x288 with 1 Axes>"
      ]
     },
     "metadata": {
      "needs_background": "light"
     },
     "output_type": "display_data"
    }
   ],
   "source": [
    "# Linear regression on Southern Hemisphere\n",
    "(x_values, y_values, rvalue, regress_values, line_eq) = lin_regress(southern_hemi_df, 'Lat', 'Humidity')\n",
    "print(f\"The r values is: {rvalue}\")\n",
    "plt.scatter(x_values,y_values)\n",
    "plt.plot(x_values,regress_values,\"r-\")\n",
    "plt.annotate(line_eq,(-40,50),xycoords='data',fontsize=15,color=\"red\")\n",
    "xlabel = 'Latitude'\n",
    "ylabel = 'Humidity'\n",
    "plt.xlabel(xlabel)\n",
    "plt.ylabel(ylabel)\n",
    "plt.title(f\"Southern Hemisphere {xlabel} vs. {ylabel} Linear Regression\")\n",
    "plt.show()"
   ]
  },
  {
   "cell_type": "markdown",
   "metadata": {},
   "source": [
    "**Discussion about the linear relationship:** In regards to latitiude vs humidity for both the northern hemisphere and southern hemisphere, the small r values lead to a conclusion that there is no correlation between latitude and humidity."
   ]
  },
  {
   "cell_type": "markdown",
   "metadata": {},
   "source": [
    "### Cloudiness vs. Latitude Linear Regression Plot"
   ]
  },
  {
   "cell_type": "code",
   "execution_count": 69,
   "metadata": {},
   "outputs": [
    {
     "name": "stdout",
     "output_type": "stream",
     "text": [
      "The r values is: 0.14566633686818228\n"
     ]
    },
    {
     "data": {
      "image/png": "[encoded data removed]",
      "text/plain": [
       "<Figure size 432x288 with 1 Axes>"
      ]
     },
     "metadata": {
      "needs_background": "light"
     },
     "output_type": "display_data"
    }
   ],
   "source": [
    "# Linear regression on Northern Hemisphere\n",
    "(x_values, y_values, rvalue, regress_values, line_eq) = lin_regress(northern_hemi_df, 'Lat', 'Cloudiness')\n",
    "print(f\"The r values is: {rvalue}\")\n",
    "plt.scatter(x_values,y_values)\n",
    "plt.plot(x_values,regress_values,\"r-\")\n",
    "plt.annotate(line_eq,(20,20),fontsize=15,color=\"red\")\n",
    "xlabel = 'Latitude'\n",
    "ylabel = 'Cloudiness'\n",
    "plt.xlabel(xlabel)\n",
    "plt.ylabel(ylabel)\n",
    "plt.title(f\"Northern Hemisphere {xlabel} vs. {ylabel} Linear Regression\")\n",
    "plt.show()"
   ]
  },
  {
   "cell_type": "code",
   "execution_count": 70,
   "metadata": {},
   "outputs": [
    {
     "name": "stdout",
     "output_type": "stream",
     "text": [
      "The r values is: 0.1740279381792823\n"
     ]
    },
    {
     "data": {
      "image/png": "[encoded data removed]",
      "text/plain": [
       "<Figure size 432x288 with 1 Axes>"
      ]
     },
     "metadata": {
      "needs_background": "light"
     },
     "output_type": "display_data"
    }
   ],
   "source": [
    "# Linear regression on Southern Hemisphere\n",
    "(x_values, y_values, rvalue, regress_values, line_eq) = lin_regress(southern_hemi_df, 'Lat', 'Cloudiness')\n",
    "print(f\"The r values is: {rvalue}\")\n",
    "plt.scatter(x_values,y_values)\n",
    "plt.plot(x_values,regress_values,\"r-\")\n",
    "plt.annotate(line_eq,(-40,20),xycoords='data',fontsize=15,color=\"red\")\n",
    "xlabel = 'Latitude'\n",
    "ylabel = 'Cloudiness'\n",
    "plt.xlabel(xlabel)\n",
    "plt.ylabel(ylabel)\n",
    "plt.title(f\"Southern Hemisphere {xlabel} vs. {ylabel} Linear Regression\")\n",
    "plt.show()"
   ]
  },
  {
   "cell_type": "markdown",
   "metadata": {},
   "source": [
    "**Discussion about the linear relationship:** In regards to latitiude vs cloudiness for both the northern hemisphere and southern hemisphere, the small r values lead to a conclusion that there is no correlation between latitude and cloudiness."
   ]
  },
  {
   "cell_type": "markdown",
   "metadata": {},
   "source": [
    "### Wind Speed vs. Latitude Linear Regression Plot"
   ]
  },
  {
   "cell_type": "code",
   "execution_count": 63,
   "metadata": {},
   "outputs": [
    {
     "name": "stdout",
     "output_type": "stream",
     "text": [
      "The r values is: 0.1076059210322612\n"
     ]
    },
    {
     "data": {
      "image/png": "[encoded data removed]",
      "text/plain": [
       "<Figure size 432x288 with 1 Axes>"
      ]
     },
     "metadata": {
      "needs_background": "light"
     },
     "output_type": "display_data"
    }
   ],
   "source": [
    "# Linear regression on Northern Hemisphere\n",
    "(x_values, y_values, rvalue, regress_values, line_eq) = lin_regress(northern_hemi_df, 'Lat', 'Wind Speed')\n",
    "print(f\"The r values is: {rvalue}\")\n",
    "plt.scatter(x_values,y_values)\n",
    "plt.plot(x_values,regress_values,\"r-\")\n",
    "plt.annotate(line_eq,(5.8,0.8),fontsize=15,color=\"red\")\n",
    "xlabel = 'Latitude'\n",
    "ylabel = 'Wind Speed'\n",
    "plt.xlabel(xlabel)\n",
    "plt.ylabel(ylabel)\n",
    "plt.title(f\"Northern Hemisphere {xlabel} vs. {ylabel} Linear Regression\")\n",
    "plt.show()"
   ]
  },
  {
   "cell_type": "code",
   "execution_count": 71,
   "metadata": {},
   "outputs": [
    {
     "name": "stdout",
     "output_type": "stream",
     "text": [
      "The r values is: -0.16409457582635179\n"
     ]
    },
    {
     "data": {
      "image/png": "[encoded data removed]",
      "text/plain": [
       "<Figure size 432x288 with 1 Axes>"
      ]
     },
     "metadata": {
      "needs_background": "light"
     },
     "output_type": "display_data"
    }
   ],
   "source": [
    "# Linear regression on Southern Hemisphere\n",
    "(x_values, y_values, rvalue, regress_values, line_eq) = lin_regress(southern_hemi_df, 'Lat', 'Wind Speed')\n",
    "print(f\"The r values is: {rvalue}\")\n",
    "plt.scatter(x_values,y_values)\n",
    "plt.plot(x_values,regress_values,\"r-\")\n",
    "plt.annotate(line_eq,(-40,10),xycoords='data',fontsize=15,color=\"red\")\n",
    "xlabel = 'Latitude'\n",
    "ylabel = 'Wind Speed'\n",
    "plt.xlabel(xlabel)\n",
    "plt.ylabel(ylabel)\n",
    "plt.title(f\"Southern Hemisphere {xlabel} vs. {ylabel} Linear Regression\")\n",
    "plt.show()"
   ]
  },
  {
   "cell_type": "markdown",
   "metadata": {},
   "source": [
    "**Discussion about the linear relationship:** In regards to latitiude vs wind speed for both the northern hemisphere and southern hemisphere, the small r values lead to a conclusion that there is no correlation between latitude and wind speed."
   ]
  },
  {
   "cell_type": "code",
   "execution_count": null,
   "metadata": {},
   "outputs": [],
   "source": []
  }
 ],
 "metadata": {
  "anaconda-cloud": {},
  "kernel_info": {
   "name": "python3"
  },
  "kernelspec": {
   "display_name": "PythonData",
   "language": "python",
   "name": "pythondata"
  },
  "language_info": {
   "codemirror_mode": {
    "name": "ipython",
    "version": 3
   },
   "file_extension": ".py",
   "mimetype": "text/x-python",
   "name": "python",
   "nbconvert_exporter": "python",
   "pygments_lexer": "ipython3",
   "version": "3.7.7"
  },
  "latex_envs": {
   "LaTeX_envs_menu_present": true,
   "autoclose": false,
   "autocomplete": true,
   "bibliofile": "biblio.bib",
   "cite_by": "apalike",
   "current_citInitial": 1,
   "eqLabelWithNumbers": true,
   "eqNumInitial": 1,
   "hotkeys": {
    "equation": "Ctrl-E",
    "itemize": "Ctrl-I"
   },
   "labels_anchors": false,
   "latex_user_defs": false,
   "report_style_numbering": false,
   "user_envs_cfg": false
  },
  "nteract": {
   "version": "0.12.3"
  }
 },
 "nbformat": 4,
 "nbformat_minor": 4
}
